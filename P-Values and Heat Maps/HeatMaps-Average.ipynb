{
 "cells": [
  {
   "cell_type": "markdown",
   "metadata": {},
   "source": [
    "# DNA Methylation P Values"
   ]
  },
  {
   "cell_type": "code",
   "execution_count": 1,
   "metadata": {
    "collapsed": true
   },
   "outputs": [],
   "source": [
    "import pandas as pd\n",
    "from scipy.stats import ttest_ind_from_stats\n",
    "import math\n",
    "from IPython.display import display, HTML"
   ]
  },
  {
   "cell_type": "code",
   "execution_count": 2,
   "metadata": {
    "collapsed": true
   },
   "outputs": [],
   "source": [
    "#https://www.graphpad.com/quickcalcs/ttest2/"
   ]
  },
  {
   "cell_type": "code",
   "execution_count": 3,
   "metadata": {
    "collapsed": true
   },
   "outputs": [],
   "source": [
    "data_path = \"data/P_Value_Calcuate/\"\n",
    "result_path = \"Result/P_Value_Calcuate/\""
   ]
  },
  {
   "cell_type": "code",
   "execution_count": 4,
   "metadata": {
    "collapsed": false
   },
   "outputs": [],
   "source": [
    "df = pd.read_csv(data_path + \"P_value_calculation_from_mean_and_SD.csv\")"
   ]
  },
  {
   "cell_type": "code",
   "execution_count": 5,
   "metadata": {
    "collapsed": true
   },
   "outputs": [],
   "source": [
    "columns1 = ['one','Average1','SD1']\n",
    "columns2 = ['two','Average2','SD2']\n",
    "columns3 = ['three','Average3','SD3']\n",
    "columns4 = ['four','Average4','SD4']\n",
    "columns5 = ['five','Average5','SD5']\n",
    "columns6 = ['six','Average6','SD6']\n",
    "columns7 = ['seven','Average7','SD7']\n",
    "columns8 = ['eight','Average8','SD8']"
   ]
  },
  {
   "cell_type": "code",
   "execution_count": 6,
   "metadata": {
    "collapsed": false
   },
   "outputs": [],
   "source": [
    "def get_p_values(Experiment,cnames):\n",
    "    n = 3\n",
    "    p_values=['p-values','NA']\n",
    "    for i in range(2,5):\n",
    "        m1 = float(Experiment[cnames[1]][1])\n",
    "        std1 = float(Experiment[cnames[2]][1])\n",
    "        m2 = float(Experiment[cnames[1]][i])\n",
    "        std2 = float(Experiment[cnames[2]][i])\n",
    "        #print(\"Air : \", \"Mean : \", m1 , \"SD : \" , std1, \"N : \", n )\n",
    "        #print(Experiment[cnames[0]][i], \"Mean : \", m2 , \"SD : \" , std2, \"N : \", n  )\n",
    "        tstat, pvalue = ttest_ind_from_stats(m1, std1, n, m2, std2, n)\n",
    "        #print(\"P-Value : \", pvalue)\n",
    "        p_values.append(round(pvalue,4))\n",
    "        #print('*'*20)\n",
    "    Experiment['p_vales']= p_values\n",
    "    return Experiment.copy()\n",
    "\n",
    "\n",
    "def get_experiment(data,cnames,result_path,filename):\n",
    "    HeatMapPvalues = {}\n",
    "    for i in range(0, len(data), 5):\n",
    "        Experiment = data.loc[i:i+4,cnames].copy().reset_index(drop = True)\n",
    "        #print(\"Data : \")\n",
    "        #display(Experiment)\n",
    "        #print(\"*\"*20)\n",
    "        Result = get_p_values(Experiment,cnames)\n",
    "        #display(Result)\n",
    "        geneName = Result[cnames[1]].iloc[0].split('-')[0]\n",
    "        geneValues = Result[cnames[1]][2:5]\n",
    "        HeatMapPvalues[geneName] = geneValues\n",
    "    return HeatMapPvalues"
   ]
  },
  {
   "cell_type": "code",
   "execution_count": 7,
   "metadata": {
    "collapsed": false,
    "scrolled": false
   },
   "outputs": [],
   "source": [
    "H1 = get_experiment(df,columns1,result_path,\"df-part-1\")\n",
    "H3 = get_experiment(df,columns3,result_path,\"df-part-3\")\n",
    "H5 = get_experiment(df,columns5,result_path,\"df-part-5\")\n",
    "H7 = get_experiment(df,columns7,result_path,\"df-part-7\")"
   ]
  },
  {
   "cell_type": "code",
   "execution_count": 8,
   "metadata": {
    "collapsed": true
   },
   "outputs": [],
   "source": [
    "dfH1 = pd.DataFrame(H1)\n",
    "dfH3 = pd.DataFrame(H3)\n",
    "dfH5 = pd.DataFrame(H5)\n",
    "dfH7 = pd.DataFrame(H7)"
   ]
  },
  {
   "cell_type": "code",
   "execution_count": 9,
   "metadata": {
    "collapsed": false
   },
   "outputs": [
    {
     "data": {
      "text/html": [
       "<div>\n",
       "<table border=\"1\" class=\"dataframe\">\n",
       "  <thead>\n",
       "    <tr style=\"text-align: right;\">\n",
       "      <th></th>\n",
       "      <th>AHRR</th>\n",
       "      <th>ALU RT</th>\n",
       "      <th>CYP1A1</th>\n",
       "      <th>DNMT1</th>\n",
       "      <th>DNMT3A</th>\n",
       "      <th>DNMT3B</th>\n",
       "      <th>GPX3</th>\n",
       "      <th>HS 3 UTR</th>\n",
       "      <th>HS 5 UTR</th>\n",
       "      <th>ORF1</th>\n",
       "      <th>ORF2</th>\n",
       "      <th>TET1</th>\n",
       "      <th>TET2</th>\n",
       "      <th>TET3</th>\n",
       "    </tr>\n",
       "  </thead>\n",
       "  <tbody>\n",
       "    <tr>\n",
       "      <th>2</th>\n",
       "      <td>0.99</td>\n",
       "      <td>0.93</td>\n",
       "      <td>0.93</td>\n",
       "      <td>0.97</td>\n",
       "      <td>1.08</td>\n",
       "      <td>1.04</td>\n",
       "      <td>1.06</td>\n",
       "      <td>1.07</td>\n",
       "      <td>1.06</td>\n",
       "      <td>1.11</td>\n",
       "      <td>1.08</td>\n",
       "      <td>0.99</td>\n",
       "      <td>1.02</td>\n",
       "      <td>1.08</td>\n",
       "    </tr>\n",
       "    <tr>\n",
       "      <th>3</th>\n",
       "      <td>1.05</td>\n",
       "      <td>0.94</td>\n",
       "      <td>2.26</td>\n",
       "      <td>0.83</td>\n",
       "      <td>0.99</td>\n",
       "      <td>0.94</td>\n",
       "      <td>0.95</td>\n",
       "      <td>0.94</td>\n",
       "      <td>0.97</td>\n",
       "      <td>0.93</td>\n",
       "      <td>1.03</td>\n",
       "      <td>0.93</td>\n",
       "      <td>0.91</td>\n",
       "      <td>1.01</td>\n",
       "    </tr>\n",
       "    <tr>\n",
       "      <th>4</th>\n",
       "      <td>1.01</td>\n",
       "      <td>0.77</td>\n",
       "      <td>5.05</td>\n",
       "      <td>0.85</td>\n",
       "      <td>1.09</td>\n",
       "      <td>0.86</td>\n",
       "      <td>1.20</td>\n",
       "      <td>0.88</td>\n",
       "      <td>0.89</td>\n",
       "      <td>0.81</td>\n",
       "      <td>0.96</td>\n",
       "      <td>0.93</td>\n",
       "      <td>1.08</td>\n",
       "      <td>1.06</td>\n",
       "    </tr>\n",
       "  </tbody>\n",
       "</table>\n",
       "</div>"
      ],
      "text/plain": [
       "   AHRR ALU RT CYP1A1 DNMT1 DNMT3A DNMT3B  GPX3 HS 3 UTR HS 5 UTR  ORF1  ORF2  \\\n",
       "2  0.99   0.93   0.93  0.97   1.08   1.04  1.06     1.07     1.06  1.11  1.08   \n",
       "3  1.05   0.94   2.26  0.83   0.99   0.94  0.95     0.94     0.97  0.93  1.03   \n",
       "4  1.01   0.77   5.05  0.85   1.09   0.86  1.20     0.88     0.89  0.81  0.96   \n",
       "\n",
       "   TET1  TET2  TET3  \n",
       "2  0.99  1.02  1.08  \n",
       "3  0.93  0.91  1.01  \n",
       "4  0.93  1.08  1.06  "
      ]
     },
     "execution_count": 9,
     "metadata": {},
     "output_type": "execute_result"
    }
   ],
   "source": [
    "dfH1"
   ]
  },
  {
   "cell_type": "code",
   "execution_count": 10,
   "metadata": {
    "collapsed": false
   },
   "outputs": [
    {
     "data": {
      "text/html": [
       "<div>\n",
       "<table border=\"1\" class=\"dataframe\">\n",
       "  <thead>\n",
       "    <tr style=\"text-align: right;\">\n",
       "      <th></th>\n",
       "      <th>AHRR</th>\n",
       "      <th>ALU RT</th>\n",
       "      <th>CYP1A1</th>\n",
       "      <th>DNMT1</th>\n",
       "      <th>DNMT3A</th>\n",
       "      <th>DNMT3B</th>\n",
       "      <th>GPX3</th>\n",
       "      <th>HS 3 UTR</th>\n",
       "      <th>HS 5 UTR</th>\n",
       "      <th>ORF1</th>\n",
       "      <th>ORF2</th>\n",
       "      <th>TET1</th>\n",
       "      <th>TET2</th>\n",
       "      <th>TET3</th>\n",
       "    </tr>\n",
       "  </thead>\n",
       "  <tbody>\n",
       "    <tr>\n",
       "      <th>2</th>\n",
       "      <td>0.83</td>\n",
       "      <td>0.58</td>\n",
       "      <td>2.17</td>\n",
       "      <td>0.81</td>\n",
       "      <td>0.89</td>\n",
       "      <td>0.81</td>\n",
       "      <td>0.93</td>\n",
       "      <td>0.72</td>\n",
       "      <td>0.77</td>\n",
       "      <td>0.85</td>\n",
       "      <td>0.89</td>\n",
       "      <td>0.79</td>\n",
       "      <td>0.87</td>\n",
       "      <td>0.98</td>\n",
       "    </tr>\n",
       "    <tr>\n",
       "      <th>3</th>\n",
       "      <td>1.65</td>\n",
       "      <td>0.85</td>\n",
       "      <td>309.53</td>\n",
       "      <td>0.78</td>\n",
       "      <td>0.97</td>\n",
       "      <td>0.99</td>\n",
       "      <td>1.11</td>\n",
       "      <td>0.87</td>\n",
       "      <td>0.95</td>\n",
       "      <td>0.89</td>\n",
       "      <td>0.93</td>\n",
       "      <td>0.72</td>\n",
       "      <td>0.92</td>\n",
       "      <td>0.94</td>\n",
       "    </tr>\n",
       "    <tr>\n",
       "      <th>4</th>\n",
       "      <td>2.57</td>\n",
       "      <td>0.56</td>\n",
       "      <td>1496.78</td>\n",
       "      <td>0.72</td>\n",
       "      <td>0.94</td>\n",
       "      <td>0.92</td>\n",
       "      <td>1.63</td>\n",
       "      <td>0.67</td>\n",
       "      <td>0.73</td>\n",
       "      <td>0.71</td>\n",
       "      <td>0.77</td>\n",
       "      <td>0.47</td>\n",
       "      <td>0.85</td>\n",
       "      <td>0.98</td>\n",
       "    </tr>\n",
       "  </tbody>\n",
       "</table>\n",
       "</div>"
      ],
      "text/plain": [
       "   AHRR ALU RT   CYP1A1 DNMT1 DNMT3A DNMT3B  GPX3 HS 3 UTR HS 5 UTR  ORF1  \\\n",
       "2  0.83   0.58     2.17  0.81   0.89   0.81  0.93     0.72     0.77  0.85   \n",
       "3  1.65   0.85   309.53  0.78   0.97   0.99  1.11     0.87     0.95  0.89   \n",
       "4  2.57   0.56  1496.78  0.72   0.94   0.92  1.63     0.67     0.73  0.71   \n",
       "\n",
       "   ORF2  TET1  TET2  TET3  \n",
       "2  0.89  0.79  0.87  0.98  \n",
       "3  0.93  0.72  0.92  0.94  \n",
       "4  0.77  0.47  0.85  0.98  "
      ]
     },
     "execution_count": 10,
     "metadata": {},
     "output_type": "execute_result"
    }
   ],
   "source": [
    "dfH3"
   ]
  },
  {
   "cell_type": "code",
   "execution_count": 11,
   "metadata": {
    "collapsed": false
   },
   "outputs": [
    {
     "data": {
      "text/html": [
       "<div>\n",
       "<table border=\"1\" class=\"dataframe\">\n",
       "  <thead>\n",
       "    <tr style=\"text-align: right;\">\n",
       "      <th></th>\n",
       "      <th>AHRR</th>\n",
       "      <th>ALU RT</th>\n",
       "      <th>CYP1A1</th>\n",
       "      <th>DNMT1</th>\n",
       "      <th>DNMT3A</th>\n",
       "      <th>DNMT3B</th>\n",
       "      <th>GPX3</th>\n",
       "      <th>HS 3 UTR</th>\n",
       "      <th>HS 5 UTR</th>\n",
       "      <th>ORF1</th>\n",
       "      <th>ORF2</th>\n",
       "      <th>TET1</th>\n",
       "      <th>TET2</th>\n",
       "      <th>TET3</th>\n",
       "    </tr>\n",
       "  </thead>\n",
       "  <tbody>\n",
       "    <tr>\n",
       "      <th>2</th>\n",
       "      <td>1.42</td>\n",
       "      <td>0.80</td>\n",
       "      <td>69.46</td>\n",
       "      <td>0.93</td>\n",
       "      <td>0.95</td>\n",
       "      <td>0.93</td>\n",
       "      <td>1.27</td>\n",
       "      <td>0.81</td>\n",
       "      <td>0.83</td>\n",
       "      <td>0.84</td>\n",
       "      <td>0.82</td>\n",
       "      <td>0.69</td>\n",
       "      <td>0.89</td>\n",
       "      <td>1.03</td>\n",
       "    </tr>\n",
       "    <tr>\n",
       "      <th>3</th>\n",
       "      <td>2.28</td>\n",
       "      <td>0.68</td>\n",
       "      <td>887.36</td>\n",
       "      <td>0.85</td>\n",
       "      <td>0.83</td>\n",
       "      <td>0.75</td>\n",
       "      <td>1.70</td>\n",
       "      <td>0.66</td>\n",
       "      <td>0.70</td>\n",
       "      <td>0.71</td>\n",
       "      <td>0.70</td>\n",
       "      <td>0.45</td>\n",
       "      <td>0.78</td>\n",
       "      <td>0.85</td>\n",
       "    </tr>\n",
       "    <tr>\n",
       "      <th>4</th>\n",
       "      <td>4.18</td>\n",
       "      <td>0.60</td>\n",
       "      <td>5465.07</td>\n",
       "      <td>0.89</td>\n",
       "      <td>0.88</td>\n",
       "      <td>0.86</td>\n",
       "      <td>2.26</td>\n",
       "      <td>0.57</td>\n",
       "      <td>0.56</td>\n",
       "      <td>0.56</td>\n",
       "      <td>0.57</td>\n",
       "      <td>0.35</td>\n",
       "      <td>0.82</td>\n",
       "      <td>0.78</td>\n",
       "    </tr>\n",
       "  </tbody>\n",
       "</table>\n",
       "</div>"
      ],
      "text/plain": [
       "   AHRR ALU RT   CYP1A1 DNMT1 DNMT3A DNMT3B  GPX3 HS 3 UTR HS 5 UTR  ORF1  \\\n",
       "2  1.42   0.80    69.46  0.93   0.95   0.93  1.27     0.81     0.83  0.84   \n",
       "3  2.28   0.68   887.36  0.85   0.83   0.75  1.70     0.66     0.70  0.71   \n",
       "4  4.18   0.60  5465.07  0.89   0.88   0.86  2.26     0.57     0.56  0.56   \n",
       "\n",
       "   ORF2  TET1  TET2  TET3  \n",
       "2  0.82  0.69  0.89  1.03  \n",
       "3  0.70  0.45  0.78  0.85  \n",
       "4  0.57  0.35  0.82  0.78  "
      ]
     },
     "execution_count": 11,
     "metadata": {},
     "output_type": "execute_result"
    }
   ],
   "source": [
    "dfH5"
   ]
  },
  {
   "cell_type": "code",
   "execution_count": 12,
   "metadata": {
    "collapsed": false
   },
   "outputs": [
    {
     "data": {
      "text/html": [
       "<div>\n",
       "<table border=\"1\" class=\"dataframe\">\n",
       "  <thead>\n",
       "    <tr style=\"text-align: right;\">\n",
       "      <th></th>\n",
       "      <th>AHRR</th>\n",
       "      <th>Alu</th>\n",
       "      <th>CY1P1A1</th>\n",
       "      <th>DNMT1</th>\n",
       "      <th>DNMT3a</th>\n",
       "      <th>DNMT3b</th>\n",
       "      <th>GPX3</th>\n",
       "      <th>HS LINE 5UTR</th>\n",
       "      <th>HSLINE 3 UTR</th>\n",
       "      <th>ORF1</th>\n",
       "      <th>ORF2</th>\n",
       "      <th>TET1</th>\n",
       "      <th>TET2</th>\n",
       "      <th>TET3</th>\n",
       "    </tr>\n",
       "  </thead>\n",
       "  <tbody>\n",
       "    <tr>\n",
       "      <th>2</th>\n",
       "      <td>7.31</td>\n",
       "      <td>1.21</td>\n",
       "      <td>1487.71</td>\n",
       "      <td>0.97</td>\n",
       "      <td>1.04</td>\n",
       "      <td>1.09</td>\n",
       "      <td>0.99</td>\n",
       "      <td>1.01</td>\n",
       "      <td>1.08</td>\n",
       "      <td>1.18</td>\n",
       "      <td>1.18</td>\n",
       "      <td>1.44</td>\n",
       "      <td>0.98</td>\n",
       "      <td>0.92</td>\n",
       "    </tr>\n",
       "    <tr>\n",
       "      <th>3</th>\n",
       "      <td>16.16</td>\n",
       "      <td>0.87</td>\n",
       "      <td>9406.97</td>\n",
       "      <td>0.90</td>\n",
       "      <td>0.92</td>\n",
       "      <td>0.83</td>\n",
       "      <td>1.19</td>\n",
       "      <td>0.85</td>\n",
       "      <td>0.84</td>\n",
       "      <td>0.94</td>\n",
       "      <td>0.91</td>\n",
       "      <td>0.69</td>\n",
       "      <td>0.86</td>\n",
       "      <td>0.86</td>\n",
       "    </tr>\n",
       "    <tr>\n",
       "      <th>4</th>\n",
       "      <td>12.07</td>\n",
       "      <td>0.76</td>\n",
       "      <td>7993.70</td>\n",
       "      <td>0.69</td>\n",
       "      <td>0.64</td>\n",
       "      <td>0.52</td>\n",
       "      <td>1.70</td>\n",
       "      <td>0.58</td>\n",
       "      <td>0.63</td>\n",
       "      <td>0.67</td>\n",
       "      <td>0.67</td>\n",
       "      <td>0.21</td>\n",
       "      <td>0.64</td>\n",
       "      <td>0.80</td>\n",
       "    </tr>\n",
       "  </tbody>\n",
       "</table>\n",
       "</div>"
      ],
      "text/plain": [
       "    AHRR   Alu  CY1P1A1 DNMT1 DNMT3a DNMT3b  GPX3 HS LINE 5UTR HSLINE 3 UTR  \\\n",
       "2   7.31  1.21  1487.71  0.97   1.04   1.09  0.99         1.01         1.08   \n",
       "3  16.16  0.87  9406.97  0.90   0.92   0.83  1.19         0.85         0.84   \n",
       "4  12.07  0.76  7993.70  0.69   0.64   0.52  1.70         0.58         0.63   \n",
       "\n",
       "   ORF1  ORF2  TET1  TET2  TET3  \n",
       "2  1.18  1.18  1.44  0.98  0.92  \n",
       "3  0.94  0.91  0.69  0.86  0.86  \n",
       "4  0.67  0.67  0.21  0.64  0.80  "
      ]
     },
     "execution_count": 12,
     "metadata": {},
     "output_type": "execute_result"
    }
   ],
   "source": [
    "dfH7"
   ]
  },
  {
   "cell_type": "code",
   "execution_count": 13,
   "metadata": {
    "collapsed": false
   },
   "outputs": [],
   "source": [
    "#dfH1 = dfH1.drop([0]).copy()\n",
    "#dfH3 = dfH3.drop([0]).copy()\n",
    "#dfH5 = dfH5.drop([0]).copy()\n",
    "#dfH7 = dfH7.drop([0]).copy()"
   ]
  },
  {
   "cell_type": "code",
   "execution_count": 14,
   "metadata": {
    "collapsed": false
   },
   "outputs": [],
   "source": [
    "df1 = dfH1.transpose()\n",
    "df3 = dfH3.transpose()\n",
    "df5 = dfH5.transpose()\n",
    "df7 = dfH7.transpose()"
   ]
  },
  {
   "cell_type": "code",
   "execution_count": 15,
   "metadata": {
    "collapsed": false
   },
   "outputs": [],
   "source": [
    "df1.columns = ['4L/min','1L/min','0.5L/min']\n",
    "df3.columns = ['4L/min','1L/min','0.5L/min']\n",
    "df5.columns = ['4L/min','1L/min','0.5L/min']\n",
    "df7.columns = ['4L/min','1L/min','0.5L/min']"
   ]
  },
  {
   "cell_type": "code",
   "execution_count": 16,
   "metadata": {
    "collapsed": false
   },
   "outputs": [],
   "source": [
    "df1['4L/min'] = pd.to_numeric(df1['4L/min'])\n",
    "df1['1L/min'] = pd.to_numeric(df1['1L/min'])\n",
    "df1['0.5L/min'] = pd.to_numeric(df1['0.5L/min'])\n",
    "\n",
    "\n",
    "\n",
    "df3['4L/min'] = pd.to_numeric(df3['4L/min'])\n",
    "df3['1L/min'] = pd.to_numeric(df3['1L/min'])\n",
    "df3['0.5L/min'] = pd.to_numeric(df3['0.5L/min'])\n",
    "\n",
    "\n",
    "\n",
    "df5['4L/min'] = pd.to_numeric(df5['4L/min'])\n",
    "df5['1L/min'] = pd.to_numeric(df5['1L/min'])\n",
    "df5['0.5L/min'] = pd.to_numeric(df5['0.5L/min'])\n",
    "\n",
    "\n",
    "\n",
    "df7['4L/min'] = pd.to_numeric(df7['4L/min'])\n",
    "df7['1L/min'] = pd.to_numeric(df7['1L/min'])\n",
    "df7['0.5L/min'] = pd.to_numeric(df7['0.5L/min'])"
   ]
  },
  {
   "cell_type": "code",
   "execution_count": 17,
   "metadata": {
    "collapsed": false
   },
   "outputs": [
    {
     "data": {
      "text/plain": [
       "4L/min      float64\n",
       "1L/min      float64\n",
       "0.5L/min    float64\n",
       "dtype: object"
      ]
     },
     "execution_count": 17,
     "metadata": {},
     "output_type": "execute_result"
    }
   ],
   "source": [
    "df1.dtypes"
   ]
  },
  {
   "cell_type": "code",
   "execution_count": 18,
   "metadata": {
    "collapsed": false
   },
   "outputs": [
    {
     "data": {
      "text/plain": [
       "4L/min      float64\n",
       "1L/min      float64\n",
       "0.5L/min    float64\n",
       "dtype: object"
      ]
     },
     "execution_count": 18,
     "metadata": {},
     "output_type": "execute_result"
    }
   ],
   "source": [
    "df3.dtypes"
   ]
  },
  {
   "cell_type": "code",
   "execution_count": 19,
   "metadata": {
    "collapsed": false
   },
   "outputs": [
    {
     "data": {
      "text/plain": [
       "4L/min      float64\n",
       "1L/min      float64\n",
       "0.5L/min    float64\n",
       "dtype: object"
      ]
     },
     "execution_count": 19,
     "metadata": {},
     "output_type": "execute_result"
    }
   ],
   "source": [
    "df5.dtypes"
   ]
  },
  {
   "cell_type": "code",
   "execution_count": 20,
   "metadata": {
    "collapsed": false
   },
   "outputs": [
    {
     "data": {
      "text/plain": [
       "4L/min      float64\n",
       "1L/min      float64\n",
       "0.5L/min    float64\n",
       "dtype: object"
      ]
     },
     "execution_count": 20,
     "metadata": {},
     "output_type": "execute_result"
    }
   ],
   "source": [
    "df7.dtypes"
   ]
  },
  {
   "cell_type": "code",
   "execution_count": 21,
   "metadata": {
    "collapsed": true
   },
   "outputs": [],
   "source": [
    "df1 = df1.apply(lambda x: [y if y <=5 else 5 for y in x])\n",
    "df3 = df3.apply(lambda x: [y if y <=5 else 5 for y in x])\n",
    "df5 = df5.apply(lambda x: [y if y <=5 else 5 for y in x])\n",
    "df7 = df7.apply(lambda x: [y if y <=5 else 5 for y in x])"
   ]
  },
  {
   "cell_type": "code",
   "execution_count": 22,
   "metadata": {
    "collapsed": false
   },
   "outputs": [
    {
     "data": {
      "text/html": [
       "<div>\n",
       "<table border=\"1\" class=\"dataframe\">\n",
       "  <thead>\n",
       "    <tr style=\"text-align: right;\">\n",
       "      <th></th>\n",
       "      <th>4L/min</th>\n",
       "      <th>1L/min</th>\n",
       "      <th>0.5L/min</th>\n",
       "    </tr>\n",
       "  </thead>\n",
       "  <tbody>\n",
       "    <tr>\n",
       "      <th>AHRR</th>\n",
       "      <td>0.99</td>\n",
       "      <td>1.05</td>\n",
       "      <td>1.01</td>\n",
       "    </tr>\n",
       "    <tr>\n",
       "      <th>ALU RT</th>\n",
       "      <td>0.93</td>\n",
       "      <td>0.94</td>\n",
       "      <td>0.77</td>\n",
       "    </tr>\n",
       "    <tr>\n",
       "      <th>CYP1A1</th>\n",
       "      <td>0.93</td>\n",
       "      <td>2.26</td>\n",
       "      <td>5.00</td>\n",
       "    </tr>\n",
       "    <tr>\n",
       "      <th>DNMT1</th>\n",
       "      <td>0.97</td>\n",
       "      <td>0.83</td>\n",
       "      <td>0.85</td>\n",
       "    </tr>\n",
       "    <tr>\n",
       "      <th>DNMT3A</th>\n",
       "      <td>1.08</td>\n",
       "      <td>0.99</td>\n",
       "      <td>1.09</td>\n",
       "    </tr>\n",
       "    <tr>\n",
       "      <th>DNMT3B</th>\n",
       "      <td>1.04</td>\n",
       "      <td>0.94</td>\n",
       "      <td>0.86</td>\n",
       "    </tr>\n",
       "    <tr>\n",
       "      <th>GPX3</th>\n",
       "      <td>1.06</td>\n",
       "      <td>0.95</td>\n",
       "      <td>1.20</td>\n",
       "    </tr>\n",
       "    <tr>\n",
       "      <th>HS 3 UTR</th>\n",
       "      <td>1.07</td>\n",
       "      <td>0.94</td>\n",
       "      <td>0.88</td>\n",
       "    </tr>\n",
       "    <tr>\n",
       "      <th>HS 5 UTR</th>\n",
       "      <td>1.06</td>\n",
       "      <td>0.97</td>\n",
       "      <td>0.89</td>\n",
       "    </tr>\n",
       "    <tr>\n",
       "      <th>ORF1</th>\n",
       "      <td>1.11</td>\n",
       "      <td>0.93</td>\n",
       "      <td>0.81</td>\n",
       "    </tr>\n",
       "    <tr>\n",
       "      <th>ORF2</th>\n",
       "      <td>1.08</td>\n",
       "      <td>1.03</td>\n",
       "      <td>0.96</td>\n",
       "    </tr>\n",
       "    <tr>\n",
       "      <th>TET1</th>\n",
       "      <td>0.99</td>\n",
       "      <td>0.93</td>\n",
       "      <td>0.93</td>\n",
       "    </tr>\n",
       "    <tr>\n",
       "      <th>TET2</th>\n",
       "      <td>1.02</td>\n",
       "      <td>0.91</td>\n",
       "      <td>1.08</td>\n",
       "    </tr>\n",
       "    <tr>\n",
       "      <th>TET3</th>\n",
       "      <td>1.08</td>\n",
       "      <td>1.01</td>\n",
       "      <td>1.06</td>\n",
       "    </tr>\n",
       "  </tbody>\n",
       "</table>\n",
       "</div>"
      ],
      "text/plain": [
       "          4L/min  1L/min  0.5L/min\n",
       "AHRR        0.99    1.05      1.01\n",
       "ALU RT      0.93    0.94      0.77\n",
       "CYP1A1      0.93    2.26      5.00\n",
       "DNMT1       0.97    0.83      0.85\n",
       "DNMT3A      1.08    0.99      1.09\n",
       "DNMT3B      1.04    0.94      0.86\n",
       "GPX3        1.06    0.95      1.20\n",
       "HS 3 UTR    1.07    0.94      0.88\n",
       "HS 5 UTR    1.06    0.97      0.89\n",
       "ORF1        1.11    0.93      0.81\n",
       "ORF2        1.08    1.03      0.96\n",
       "TET1        0.99    0.93      0.93\n",
       "TET2        1.02    0.91      1.08\n",
       "TET3        1.08    1.01      1.06"
      ]
     },
     "execution_count": 22,
     "metadata": {},
     "output_type": "execute_result"
    }
   ],
   "source": [
    "df1"
   ]
  },
  {
   "cell_type": "code",
   "execution_count": 23,
   "metadata": {
    "collapsed": false
   },
   "outputs": [
    {
     "data": {
      "text/html": [
       "<div>\n",
       "<table border=\"1\" class=\"dataframe\">\n",
       "  <thead>\n",
       "    <tr style=\"text-align: right;\">\n",
       "      <th></th>\n",
       "      <th>4L/min</th>\n",
       "      <th>1L/min</th>\n",
       "      <th>0.5L/min</th>\n",
       "    </tr>\n",
       "  </thead>\n",
       "  <tbody>\n",
       "    <tr>\n",
       "      <th>AHRR</th>\n",
       "      <td>0.83</td>\n",
       "      <td>1.65</td>\n",
       "      <td>2.57</td>\n",
       "    </tr>\n",
       "    <tr>\n",
       "      <th>ALU RT</th>\n",
       "      <td>0.58</td>\n",
       "      <td>0.85</td>\n",
       "      <td>0.56</td>\n",
       "    </tr>\n",
       "    <tr>\n",
       "      <th>CYP1A1</th>\n",
       "      <td>2.17</td>\n",
       "      <td>5.00</td>\n",
       "      <td>5.00</td>\n",
       "    </tr>\n",
       "    <tr>\n",
       "      <th>DNMT1</th>\n",
       "      <td>0.81</td>\n",
       "      <td>0.78</td>\n",
       "      <td>0.72</td>\n",
       "    </tr>\n",
       "    <tr>\n",
       "      <th>DNMT3A</th>\n",
       "      <td>0.89</td>\n",
       "      <td>0.97</td>\n",
       "      <td>0.94</td>\n",
       "    </tr>\n",
       "    <tr>\n",
       "      <th>DNMT3B</th>\n",
       "      <td>0.81</td>\n",
       "      <td>0.99</td>\n",
       "      <td>0.92</td>\n",
       "    </tr>\n",
       "    <tr>\n",
       "      <th>GPX3</th>\n",
       "      <td>0.93</td>\n",
       "      <td>1.11</td>\n",
       "      <td>1.63</td>\n",
       "    </tr>\n",
       "    <tr>\n",
       "      <th>HS 3 UTR</th>\n",
       "      <td>0.72</td>\n",
       "      <td>0.87</td>\n",
       "      <td>0.67</td>\n",
       "    </tr>\n",
       "    <tr>\n",
       "      <th>HS 5 UTR</th>\n",
       "      <td>0.77</td>\n",
       "      <td>0.95</td>\n",
       "      <td>0.73</td>\n",
       "    </tr>\n",
       "    <tr>\n",
       "      <th>ORF1</th>\n",
       "      <td>0.85</td>\n",
       "      <td>0.89</td>\n",
       "      <td>0.71</td>\n",
       "    </tr>\n",
       "    <tr>\n",
       "      <th>ORF2</th>\n",
       "      <td>0.89</td>\n",
       "      <td>0.93</td>\n",
       "      <td>0.77</td>\n",
       "    </tr>\n",
       "    <tr>\n",
       "      <th>TET1</th>\n",
       "      <td>0.79</td>\n",
       "      <td>0.72</td>\n",
       "      <td>0.47</td>\n",
       "    </tr>\n",
       "    <tr>\n",
       "      <th>TET2</th>\n",
       "      <td>0.87</td>\n",
       "      <td>0.92</td>\n",
       "      <td>0.85</td>\n",
       "    </tr>\n",
       "    <tr>\n",
       "      <th>TET3</th>\n",
       "      <td>0.98</td>\n",
       "      <td>0.94</td>\n",
       "      <td>0.98</td>\n",
       "    </tr>\n",
       "  </tbody>\n",
       "</table>\n",
       "</div>"
      ],
      "text/plain": [
       "          4L/min  1L/min  0.5L/min\n",
       "AHRR        0.83    1.65      2.57\n",
       "ALU RT      0.58    0.85      0.56\n",
       "CYP1A1      2.17    5.00      5.00\n",
       "DNMT1       0.81    0.78      0.72\n",
       "DNMT3A      0.89    0.97      0.94\n",
       "DNMT3B      0.81    0.99      0.92\n",
       "GPX3        0.93    1.11      1.63\n",
       "HS 3 UTR    0.72    0.87      0.67\n",
       "HS 5 UTR    0.77    0.95      0.73\n",
       "ORF1        0.85    0.89      0.71\n",
       "ORF2        0.89    0.93      0.77\n",
       "TET1        0.79    0.72      0.47\n",
       "TET2        0.87    0.92      0.85\n",
       "TET3        0.98    0.94      0.98"
      ]
     },
     "execution_count": 23,
     "metadata": {},
     "output_type": "execute_result"
    }
   ],
   "source": [
    "df3"
   ]
  },
  {
   "cell_type": "code",
   "execution_count": 24,
   "metadata": {
    "collapsed": false
   },
   "outputs": [
    {
     "data": {
      "text/html": [
       "<div>\n",
       "<table border=\"1\" class=\"dataframe\">\n",
       "  <thead>\n",
       "    <tr style=\"text-align: right;\">\n",
       "      <th></th>\n",
       "      <th>4L/min</th>\n",
       "      <th>1L/min</th>\n",
       "      <th>0.5L/min</th>\n",
       "    </tr>\n",
       "  </thead>\n",
       "  <tbody>\n",
       "    <tr>\n",
       "      <th>AHRR</th>\n",
       "      <td>1.42</td>\n",
       "      <td>2.28</td>\n",
       "      <td>4.18</td>\n",
       "    </tr>\n",
       "    <tr>\n",
       "      <th>ALU RT</th>\n",
       "      <td>0.80</td>\n",
       "      <td>0.68</td>\n",
       "      <td>0.60</td>\n",
       "    </tr>\n",
       "    <tr>\n",
       "      <th>CYP1A1</th>\n",
       "      <td>5.00</td>\n",
       "      <td>5.00</td>\n",
       "      <td>5.00</td>\n",
       "    </tr>\n",
       "    <tr>\n",
       "      <th>DNMT1</th>\n",
       "      <td>0.93</td>\n",
       "      <td>0.85</td>\n",
       "      <td>0.89</td>\n",
       "    </tr>\n",
       "    <tr>\n",
       "      <th>DNMT3A</th>\n",
       "      <td>0.95</td>\n",
       "      <td>0.83</td>\n",
       "      <td>0.88</td>\n",
       "    </tr>\n",
       "    <tr>\n",
       "      <th>DNMT3B</th>\n",
       "      <td>0.93</td>\n",
       "      <td>0.75</td>\n",
       "      <td>0.86</td>\n",
       "    </tr>\n",
       "    <tr>\n",
       "      <th>GPX3</th>\n",
       "      <td>1.27</td>\n",
       "      <td>1.70</td>\n",
       "      <td>2.26</td>\n",
       "    </tr>\n",
       "    <tr>\n",
       "      <th>HS 3 UTR</th>\n",
       "      <td>0.81</td>\n",
       "      <td>0.66</td>\n",
       "      <td>0.57</td>\n",
       "    </tr>\n",
       "    <tr>\n",
       "      <th>HS 5 UTR</th>\n",
       "      <td>0.83</td>\n",
       "      <td>0.70</td>\n",
       "      <td>0.56</td>\n",
       "    </tr>\n",
       "    <tr>\n",
       "      <th>ORF1</th>\n",
       "      <td>0.84</td>\n",
       "      <td>0.71</td>\n",
       "      <td>0.56</td>\n",
       "    </tr>\n",
       "    <tr>\n",
       "      <th>ORF2</th>\n",
       "      <td>0.82</td>\n",
       "      <td>0.70</td>\n",
       "      <td>0.57</td>\n",
       "    </tr>\n",
       "    <tr>\n",
       "      <th>TET1</th>\n",
       "      <td>0.69</td>\n",
       "      <td>0.45</td>\n",
       "      <td>0.35</td>\n",
       "    </tr>\n",
       "    <tr>\n",
       "      <th>TET2</th>\n",
       "      <td>0.89</td>\n",
       "      <td>0.78</td>\n",
       "      <td>0.82</td>\n",
       "    </tr>\n",
       "    <tr>\n",
       "      <th>TET3</th>\n",
       "      <td>1.03</td>\n",
       "      <td>0.85</td>\n",
       "      <td>0.78</td>\n",
       "    </tr>\n",
       "  </tbody>\n",
       "</table>\n",
       "</div>"
      ],
      "text/plain": [
       "          4L/min  1L/min  0.5L/min\n",
       "AHRR        1.42    2.28      4.18\n",
       "ALU RT      0.80    0.68      0.60\n",
       "CYP1A1      5.00    5.00      5.00\n",
       "DNMT1       0.93    0.85      0.89\n",
       "DNMT3A      0.95    0.83      0.88\n",
       "DNMT3B      0.93    0.75      0.86\n",
       "GPX3        1.27    1.70      2.26\n",
       "HS 3 UTR    0.81    0.66      0.57\n",
       "HS 5 UTR    0.83    0.70      0.56\n",
       "ORF1        0.84    0.71      0.56\n",
       "ORF2        0.82    0.70      0.57\n",
       "TET1        0.69    0.45      0.35\n",
       "TET2        0.89    0.78      0.82\n",
       "TET3        1.03    0.85      0.78"
      ]
     },
     "execution_count": 24,
     "metadata": {},
     "output_type": "execute_result"
    }
   ],
   "source": [
    "df5"
   ]
  },
  {
   "cell_type": "code",
   "execution_count": 25,
   "metadata": {
    "collapsed": false
   },
   "outputs": [
    {
     "data": {
      "text/html": [
       "<div>\n",
       "<table border=\"1\" class=\"dataframe\">\n",
       "  <thead>\n",
       "    <tr style=\"text-align: right;\">\n",
       "      <th></th>\n",
       "      <th>4L/min</th>\n",
       "      <th>1L/min</th>\n",
       "      <th>0.5L/min</th>\n",
       "    </tr>\n",
       "  </thead>\n",
       "  <tbody>\n",
       "    <tr>\n",
       "      <th>AHRR</th>\n",
       "      <td>5.00</td>\n",
       "      <td>5.00</td>\n",
       "      <td>5.00</td>\n",
       "    </tr>\n",
       "    <tr>\n",
       "      <th>Alu</th>\n",
       "      <td>1.21</td>\n",
       "      <td>0.87</td>\n",
       "      <td>0.76</td>\n",
       "    </tr>\n",
       "    <tr>\n",
       "      <th>CY1P1A1</th>\n",
       "      <td>5.00</td>\n",
       "      <td>5.00</td>\n",
       "      <td>5.00</td>\n",
       "    </tr>\n",
       "    <tr>\n",
       "      <th>DNMT1</th>\n",
       "      <td>0.97</td>\n",
       "      <td>0.90</td>\n",
       "      <td>0.69</td>\n",
       "    </tr>\n",
       "    <tr>\n",
       "      <th>DNMT3a</th>\n",
       "      <td>1.04</td>\n",
       "      <td>0.92</td>\n",
       "      <td>0.64</td>\n",
       "    </tr>\n",
       "    <tr>\n",
       "      <th>DNMT3b</th>\n",
       "      <td>1.09</td>\n",
       "      <td>0.83</td>\n",
       "      <td>0.52</td>\n",
       "    </tr>\n",
       "    <tr>\n",
       "      <th>GPX3</th>\n",
       "      <td>0.99</td>\n",
       "      <td>1.19</td>\n",
       "      <td>1.70</td>\n",
       "    </tr>\n",
       "    <tr>\n",
       "      <th>HS LINE 5UTR</th>\n",
       "      <td>1.01</td>\n",
       "      <td>0.85</td>\n",
       "      <td>0.58</td>\n",
       "    </tr>\n",
       "    <tr>\n",
       "      <th>HSLINE 3 UTR</th>\n",
       "      <td>1.08</td>\n",
       "      <td>0.84</td>\n",
       "      <td>0.63</td>\n",
       "    </tr>\n",
       "    <tr>\n",
       "      <th>ORF1</th>\n",
       "      <td>1.18</td>\n",
       "      <td>0.94</td>\n",
       "      <td>0.67</td>\n",
       "    </tr>\n",
       "    <tr>\n",
       "      <th>ORF2</th>\n",
       "      <td>1.18</td>\n",
       "      <td>0.91</td>\n",
       "      <td>0.67</td>\n",
       "    </tr>\n",
       "    <tr>\n",
       "      <th>TET1</th>\n",
       "      <td>1.44</td>\n",
       "      <td>0.69</td>\n",
       "      <td>0.21</td>\n",
       "    </tr>\n",
       "    <tr>\n",
       "      <th>TET2</th>\n",
       "      <td>0.98</td>\n",
       "      <td>0.86</td>\n",
       "      <td>0.64</td>\n",
       "    </tr>\n",
       "    <tr>\n",
       "      <th>TET3</th>\n",
       "      <td>0.92</td>\n",
       "      <td>0.86</td>\n",
       "      <td>0.80</td>\n",
       "    </tr>\n",
       "  </tbody>\n",
       "</table>\n",
       "</div>"
      ],
      "text/plain": [
       "              4L/min  1L/min  0.5L/min\n",
       "AHRR            5.00    5.00      5.00\n",
       "Alu             1.21    0.87      0.76\n",
       "CY1P1A1         5.00    5.00      5.00\n",
       "DNMT1           0.97    0.90      0.69\n",
       "DNMT3a          1.04    0.92      0.64\n",
       "DNMT3b          1.09    0.83      0.52\n",
       "GPX3            0.99    1.19      1.70\n",
       "HS LINE 5UTR    1.01    0.85      0.58\n",
       "HSLINE 3 UTR    1.08    0.84      0.63\n",
       "ORF1            1.18    0.94      0.67\n",
       "ORF2            1.18    0.91      0.67\n",
       "TET1            1.44    0.69      0.21\n",
       "TET2            0.98    0.86      0.64\n",
       "TET3            0.92    0.86      0.80"
      ]
     },
     "execution_count": 25,
     "metadata": {},
     "output_type": "execute_result"
    }
   ],
   "source": [
    "df7"
   ]
  },
  {
   "cell_type": "code",
   "execution_count": 35,
   "metadata": {
    "collapsed": false
   },
   "outputs": [
    {
     "data": {
      "image/png": "[encoded data removed]",
      "text/plain": [
       "<matplotlib.figure.Figure at 0x11c711390>"
      ]
     },
     "metadata": {},
     "output_type": "display_data"
    }
   ],
   "source": [
    "import seaborn as sns\n",
    "from matplotlib import pyplot\n",
    "%matplotlib inline\n",
    "a4_dims = (11.7, 8.27)\n",
    "fig, ax = pyplot.subplots(figsize=a4_dims)\n",
    "pal = sns.dark_palette(\"navy\", as_cmap=True)\n",
    "sns.heatmap(df1,cmap=\"YlGnBu\",square=True,cbar_kws=dict(ticks=[0.0,0.2,0.3,0.5,0.8, 1.0,1.5,2.0,2.5,3,3.5,4.0,4.5,5])).set_title(\"PT7\")\n",
    "fig.savefig(\"PT7.png\")"
   ]
  },
  {
   "cell_type": "code",
   "execution_count": 36,
   "metadata": {
    "collapsed": false
   },
   "outputs": [
    {
     "data": {
      "image/png": "[encoded data removed]",
      "text/plain": [
       "<matplotlib.figure.Figure at 0x11c8c3710>"
      ]
     },
     "metadata": {},
     "output_type": "display_data"
    }
   ],
   "source": [
    "import seaborn as sns\n",
    "from matplotlib import pyplot\n",
    "%matplotlib inline\n",
    "a4_dims = (11.7, 8.27)\n",
    "fig, ax = pyplot.subplots(figsize=a4_dims)\n",
    "pal = sns.dark_palette(\"navy\", as_cmap=True)\n",
    "sns.heatmap(df3,cmap=\"YlGnBu\",square=True,cbar_kws=dict(ticks=[0.0,0.2,0.3,0.5,0.8, 1.0,1.5,2.0,2.5,3,3.5,4.0,4.5,5])).set_title(\"PT2\")\n",
    "fig.savefig(\"PT2.png\")"
   ]
  },
  {
   "cell_type": "code",
   "execution_count": 37,
   "metadata": {
    "collapsed": false
   },
   "outputs": [
    {
     "data": {
      "image/png": "[encoded data removed]",
      "text/plain": [
       "<matplotlib.figure.Figure at 0x11c892668>"
      ]
     },
     "metadata": {},
     "output_type": "display_data"
    }
   ],
   "source": [
    "import seaborn as sns\n",
    "from matplotlib import pyplot\n",
    "%matplotlib inline\n",
    "a4_dims = (11.7, 8.27)\n",
    "fig, ax = pyplot.subplots(figsize=a4_dims)\n",
    "pal = sns.dark_palette(\"navy\", as_cmap=True)\n",
    "sns.heatmap(df5,cmap=\"YlGnBu\",square=True,cbar_kws=dict(ticks=[0.0,0.2,0.3,0.5,0.8, 1.0,1.5,2.0,2.5,3,3.5,4.0,4.5,5])).set_title(\"T1\")\n",
    "fig.savefig(\"T1.png\")"
   ]
  },
  {
   "cell_type": "code",
   "execution_count": 38,
   "metadata": {
    "collapsed": false
   },
   "outputs": [
    {
     "data": {
      "image/png": "[encoded data removed]",
      "text/plain": [
       "<matplotlib.figure.Figure at 0x11c892f98>"
      ]
     },
     "metadata": {},
     "output_type": "display_data"
    }
   ],
   "source": [
    "import seaborn as sns\n",
    "from matplotlib import pyplot\n",
    "%matplotlib inline\n",
    "a4_dims = (11.7, 8.27)\n",
    "fig, ax = pyplot.subplots(figsize=a4_dims)\n",
    "pal = sns.dark_palette(\"navy\", as_cmap=True)\n",
    "sns.heatmap(df7,cmap=\"YlGnBu\",square=True,cbar_kws=dict(ticks=[0.0,0.2,0.3,0.5,0.8, 1.0,1.5,2.0,2.5,3,3.5,4.0,4.5,5])).set_title(\"T0\")\n",
    "fig.savefig(\"T0.png\")"
   ]
  },
  {
   "cell_type": "code",
   "execution_count": null,
   "metadata": {
    "collapsed": true
   },
   "outputs": [],
   "source": []
  },
  {
   "cell_type": "code",
   "execution_count": null,
   "metadata": {
    "collapsed": true
   },
   "outputs": [],
   "source": []
  },
  {
   "cell_type": "code",
   "execution_count": null,
   "metadata": {
    "collapsed": true
   },
   "outputs": [],
   "source": []
  },
  {
   "cell_type": "code",
   "execution_count": null,
   "metadata": {
    "collapsed": true
   },
   "outputs": [],
   "source": []
  },
  {
   "cell_type": "code",
   "execution_count": null,
   "metadata": {
    "collapsed": true
   },
   "outputs": [],
   "source": []
  },
  {
   "cell_type": "code",
   "execution_count": null,
   "metadata": {
    "collapsed": true
   },
   "outputs": [],
   "source": []
  },
  {
   "cell_type": "code",
   "execution_count": null,
   "metadata": {
    "collapsed": true
   },
   "outputs": [],
   "source": []
  },
  {
   "cell_type": "code",
   "execution_count": null,
   "metadata": {
    "collapsed": true
   },
   "outputs": [],
   "source": []
  }
 ],
 "metadata": {
  "kernelspec": {
   "display_name": "Python [conda env:keras_env]",
   "language": "python",
   "name": "conda-env-keras_env-py"
  },
  "language_info": {
   "codemirror_mode": {
    "name": "ipython",
    "version": 3
   },
   "file_extension": ".py",
   "mimetype": "text/x-python",
   "name": "python",
   "nbconvert_exporter": "python",
   "pygments_lexer": "ipython3",
   "version": "3.4.5"
  }
 },
 "nbformat": 4,
 "nbformat_minor": 2
}
