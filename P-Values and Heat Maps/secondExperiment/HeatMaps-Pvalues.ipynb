{
 "cells": [
  {
   "cell_type": "markdown",
   "metadata": {},
   "source": [
    "# DNA Methylation P Values"
   ]
  },
  {
   "cell_type": "code",
   "execution_count": 1,
   "metadata": {
    "collapsed": true
   },
   "outputs": [],
   "source": [
    "import pandas as pd\n",
    "from scipy.stats import ttest_ind_from_stats\n",
    "import math\n",
    "from IPython.display import display, HTML"
   ]
  },
  {
   "cell_type": "code",
   "execution_count": 2,
   "metadata": {
    "collapsed": true
   },
   "outputs": [],
   "source": [
    "#https://www.graphpad.com/quickcalcs/ttest2/"
   ]
  },
  {
   "cell_type": "code",
   "execution_count": 3,
   "metadata": {
    "collapsed": true
   },
   "outputs": [],
   "source": [
    "data_path = \"data/P_Value_Calcuate/\"\n",
    "result_path = \"Result/P_Value_Calcuate/\""
   ]
  },
  {
   "cell_type": "code",
   "execution_count": 4,
   "metadata": {
    "collapsed": false
   },
   "outputs": [],
   "source": [
    "df = pd.read_csv(data_path + \"P_value_calculation_from_mean_and_SD.csv\")"
   ]
  },
  {
   "cell_type": "code",
   "execution_count": 5,
   "metadata": {
    "collapsed": true
   },
   "outputs": [],
   "source": [
    "columns1 = ['one','Average1','SD1']\n",
    "columns2 = ['two','Average2','SD2']\n",
    "columns3 = ['three','Average3','SD3']\n",
    "columns4 = ['four','Average4','SD4']\n",
    "columns5 = ['five','Average5','SD5']\n",
    "columns6 = ['six','Average6','SD6']\n",
    "columns7 = ['seven','Average7','SD7']\n",
    "columns8 = ['eight','Average8','SD8']"
   ]
  },
  {
   "cell_type": "code",
   "execution_count": 55,
   "metadata": {
    "collapsed": false
   },
   "outputs": [],
   "source": [
    "def get_p_values(Experiment,cnames):\n",
    "    n = 3\n",
    "    p_values=['p-values','NA']\n",
    "    for i in range(2,5):\n",
    "        m1 = float(Experiment[cnames[1]][1])\n",
    "        std1 = float(Experiment[cnames[2]][1])\n",
    "        m2 = float(Experiment[cnames[1]][i])\n",
    "        std2 = float(Experiment[cnames[2]][i])\n",
    "        #print(\"Air : \", \"Mean : \", m1 , \"SD : \" , std1, \"N : \", n )\n",
    "        #print(Experiment[cnames[0]][i], \"Mean : \", m2 , \"SD : \" , std2, \"N : \", n  )\n",
    "        tstat, pvalue = ttest_ind_from_stats(m1, std1, n, m2, std2, n)\n",
    "        #print(\"P-Value : \", pvalue)\n",
    "        p_values.append(round(pvalue,4))\n",
    "        #print('*'*20)\n",
    "    Experiment['p_vales']= p_values\n",
    "    return Experiment.copy()\n",
    "\n",
    "\n",
    "def get_experiment(data,cnames,result_path,filename):\n",
    "    HeatMapPvalues = {}\n",
    "    for i in range(0, len(data), 5):\n",
    "        Experiment = data.loc[i:i+4,cnames].copy().reset_index(drop = True)\n",
    "        #print(\"Data : \")\n",
    "        #display(Experiment)\n",
    "        #print(\"*\"*20)\n",
    "        Result = get_p_values(Experiment,cnames)\n",
    "        geneName = Result[cnames[1]].iloc[0].split('-')[0]\n",
    "        geneValues = list(Result[\"p_vales\"])\n",
    "        #print(geneName, geneValues[1:5])\n",
    "        HeatMapPvalues[geneName] = geneValues[1:5]\n",
    "    return HeatMapPvalues"
   ]
  },
  {
   "cell_type": "code",
   "execution_count": 56,
   "metadata": {
    "collapsed": false,
    "scrolled": false
   },
   "outputs": [],
   "source": [
    "H1 = get_experiment(df,columns1,result_path,\"df-part-1\")\n",
    "H3 = get_experiment(df,columns3,result_path,\"df-part-3\")\n",
    "H5 = get_experiment(df,columns5,result_path,\"df-part-5\")\n",
    "H7 = get_experiment(df,columns7,result_path,\"df-part-7\")"
   ]
  },
  {
   "cell_type": "code",
   "execution_count": 57,
   "metadata": {
    "collapsed": true
   },
   "outputs": [],
   "source": [
    "dfH1 = pd.DataFrame(H1)\n",
    "dfH3 = pd.DataFrame(H3)\n",
    "dfH5 = pd.DataFrame(H5)\n",
    "dfH7 = pd.DataFrame(H7)"
   ]
  },
  {
   "cell_type": "code",
   "execution_count": 58,
   "metadata": {
    "collapsed": false
   },
   "outputs": [
    {
     "data": {
      "text/html": [
       "<div>\n",
       "<table border=\"1\" class=\"dataframe\">\n",
       "  <thead>\n",
       "    <tr style=\"text-align: right;\">\n",
       "      <th></th>\n",
       "      <th>AHRR</th>\n",
       "      <th>ALU RT</th>\n",
       "      <th>CYP1A1</th>\n",
       "      <th>DNMT1</th>\n",
       "      <th>DNMT3A</th>\n",
       "      <th>DNMT3B</th>\n",
       "      <th>GPX3</th>\n",
       "      <th>HS 3 UTR</th>\n",
       "      <th>HS 5 UTR</th>\n",
       "      <th>ORF1</th>\n",
       "      <th>ORF2</th>\n",
       "      <th>TET1</th>\n",
       "      <th>TET2</th>\n",
       "      <th>TET3</th>\n",
       "    </tr>\n",
       "  </thead>\n",
       "  <tbody>\n",
       "    <tr>\n",
       "      <th>0</th>\n",
       "      <td>NA</td>\n",
       "      <td>NA</td>\n",
       "      <td>NA</td>\n",
       "      <td>NA</td>\n",
       "      <td>NA</td>\n",
       "      <td>NA</td>\n",
       "      <td>NA</td>\n",
       "      <td>NA</td>\n",
       "      <td>NA</td>\n",
       "      <td>NA</td>\n",
       "      <td>NA</td>\n",
       "      <td>NA</td>\n",
       "      <td>NA</td>\n",
       "      <td>NA</td>\n",
       "    </tr>\n",
       "    <tr>\n",
       "      <th>1</th>\n",
       "      <td>0.9258</td>\n",
       "      <td>0.6718</td>\n",
       "      <td>0.5788</td>\n",
       "      <td>0.656</td>\n",
       "      <td>0.4608</td>\n",
       "      <td>0.6803</td>\n",
       "      <td>0.5118</td>\n",
       "      <td>0.7242</td>\n",
       "      <td>0.6728</td>\n",
       "      <td>0.6065</td>\n",
       "      <td>0.6869</td>\n",
       "      <td>0.8601</td>\n",
       "      <td>0.8559</td>\n",
       "      <td>0.5008</td>\n",
       "    </tr>\n",
       "    <tr>\n",
       "      <th>2</th>\n",
       "      <td>0.6909</td>\n",
       "      <td>0.6845</td>\n",
       "      <td>0.1357</td>\n",
       "      <td>0.136</td>\n",
       "      <td>0.8926</td>\n",
       "      <td>0.656</td>\n",
       "      <td>0.4481</td>\n",
       "      <td>0.6678</td>\n",
       "      <td>0.8244</td>\n",
       "      <td>0.5428</td>\n",
       "      <td>0.843</td>\n",
       "      <td>0.4942</td>\n",
       "      <td>0.2652</td>\n",
       "      <td>1</td>\n",
       "    </tr>\n",
       "    <tr>\n",
       "      <th>3</th>\n",
       "      <td>0.9123</td>\n",
       "      <td>0.018</td>\n",
       "      <td>0.0261</td>\n",
       "      <td>0.0972</td>\n",
       "      <td>0.1317</td>\n",
       "      <td>0.117</td>\n",
       "      <td>0.0702</td>\n",
       "      <td>0.0653</td>\n",
       "      <td>0.1077</td>\n",
       "      <td>0.0049</td>\n",
       "      <td>0.6098</td>\n",
       "      <td>0.5634</td>\n",
       "      <td>0.314</td>\n",
       "      <td>0.5589</td>\n",
       "    </tr>\n",
       "  </tbody>\n",
       "</table>\n",
       "</div>"
      ],
      "text/plain": [
       "     AHRR  ALU RT  CYP1A1   DNMT1  DNMT3A  DNMT3B    GPX3 HS 3 UTR HS 5 UTR  \\\n",
       "0      NA      NA      NA      NA      NA      NA      NA       NA       NA   \n",
       "1  0.9258  0.6718  0.5788   0.656  0.4608  0.6803  0.5118   0.7242   0.6728   \n",
       "2  0.6909  0.6845  0.1357   0.136  0.8926   0.656  0.4481   0.6678   0.8244   \n",
       "3  0.9123   0.018  0.0261  0.0972  0.1317   0.117  0.0702   0.0653   0.1077   \n",
       "\n",
       "     ORF1    ORF2    TET1    TET2    TET3  \n",
       "0      NA      NA      NA      NA      NA  \n",
       "1  0.6065  0.6869  0.8601  0.8559  0.5008  \n",
       "2  0.5428   0.843  0.4942  0.2652       1  \n",
       "3  0.0049  0.6098  0.5634   0.314  0.5589  "
      ]
     },
     "execution_count": 58,
     "metadata": {},
     "output_type": "execute_result"
    }
   ],
   "source": [
    "dfH1"
   ]
  },
  {
   "cell_type": "code",
   "execution_count": 59,
   "metadata": {
    "collapsed": false
   },
   "outputs": [
    {
     "data": {
      "text/html": [
       "<div>\n",
       "<table border=\"1\" class=\"dataframe\">\n",
       "  <thead>\n",
       "    <tr style=\"text-align: right;\">\n",
       "      <th></th>\n",
       "      <th>AHRR</th>\n",
       "      <th>ALU RT</th>\n",
       "      <th>CYP1A1</th>\n",
       "      <th>DNMT1</th>\n",
       "      <th>DNMT3A</th>\n",
       "      <th>DNMT3B</th>\n",
       "      <th>GPX3</th>\n",
       "      <th>HS 3 UTR</th>\n",
       "      <th>HS 5 UTR</th>\n",
       "      <th>ORF1</th>\n",
       "      <th>ORF2</th>\n",
       "      <th>TET1</th>\n",
       "      <th>TET2</th>\n",
       "      <th>TET3</th>\n",
       "    </tr>\n",
       "  </thead>\n",
       "  <tbody>\n",
       "    <tr>\n",
       "      <th>0</th>\n",
       "      <td>NA</td>\n",
       "      <td>NA</td>\n",
       "      <td>NA</td>\n",
       "      <td>NA</td>\n",
       "      <td>NA</td>\n",
       "      <td>NA</td>\n",
       "      <td>NA</td>\n",
       "      <td>NA</td>\n",
       "      <td>NA</td>\n",
       "      <td>NA</td>\n",
       "      <td>NA</td>\n",
       "      <td>NA</td>\n",
       "      <td>NA</td>\n",
       "      <td>NA</td>\n",
       "    </tr>\n",
       "    <tr>\n",
       "      <th>1</th>\n",
       "      <td>0.083</td>\n",
       "      <td>0.0119</td>\n",
       "      <td>0.2376</td>\n",
       "      <td>0.062</td>\n",
       "      <td>0.0713</td>\n",
       "      <td>0.0364</td>\n",
       "      <td>0.3177</td>\n",
       "      <td>0.0408</td>\n",
       "      <td>0.0891</td>\n",
       "      <td>0.0965</td>\n",
       "      <td>0.4252</td>\n",
       "      <td>0.115</td>\n",
       "      <td>0.1467</td>\n",
       "      <td>0.8487</td>\n",
       "    </tr>\n",
       "    <tr>\n",
       "      <th>2</th>\n",
       "      <td>0.0004</td>\n",
       "      <td>0.4438</td>\n",
       "      <td>0.0009</td>\n",
       "      <td>0.034</td>\n",
       "      <td>0.5423</td>\n",
       "      <td>0.8989</td>\n",
       "      <td>0.17</td>\n",
       "      <td>0.3232</td>\n",
       "      <td>0.6603</td>\n",
       "      <td>0.2541</td>\n",
       "      <td>0.5365</td>\n",
       "      <td>0.0528</td>\n",
       "      <td>0.283</td>\n",
       "      <td>0.4874</td>\n",
       "    </tr>\n",
       "    <tr>\n",
       "      <th>3</th>\n",
       "      <td>0.0034</td>\n",
       "      <td>0.0092</td>\n",
       "      <td>0.0009</td>\n",
       "      <td>0.0068</td>\n",
       "      <td>0.4688</td>\n",
       "      <td>0.3401</td>\n",
       "      <td>0.0003</td>\n",
       "      <td>0.0166</td>\n",
       "      <td>0.0774</td>\n",
       "      <td>0.0392</td>\n",
       "      <td>0.0824</td>\n",
       "      <td>0.0079</td>\n",
       "      <td>0.1068</td>\n",
       "      <td>0.8194</td>\n",
       "    </tr>\n",
       "  </tbody>\n",
       "</table>\n",
       "</div>"
      ],
      "text/plain": [
       "     AHRR  ALU RT  CYP1A1   DNMT1  DNMT3A  DNMT3B    GPX3 HS 3 UTR HS 5 UTR  \\\n",
       "0      NA      NA      NA      NA      NA      NA      NA       NA       NA   \n",
       "1   0.083  0.0119  0.2376   0.062  0.0713  0.0364  0.3177   0.0408   0.0891   \n",
       "2  0.0004  0.4438  0.0009   0.034  0.5423  0.8989    0.17   0.3232   0.6603   \n",
       "3  0.0034  0.0092  0.0009  0.0068  0.4688  0.3401  0.0003   0.0166   0.0774   \n",
       "\n",
       "     ORF1    ORF2    TET1    TET2    TET3  \n",
       "0      NA      NA      NA      NA      NA  \n",
       "1  0.0965  0.4252   0.115  0.1467  0.8487  \n",
       "2  0.2541  0.5365  0.0528   0.283  0.4874  \n",
       "3  0.0392  0.0824  0.0079  0.1068  0.8194  "
      ]
     },
     "execution_count": 59,
     "metadata": {},
     "output_type": "execute_result"
    }
   ],
   "source": [
    "dfH3"
   ]
  },
  {
   "cell_type": "code",
   "execution_count": 60,
   "metadata": {
    "collapsed": false
   },
   "outputs": [
    {
     "data": {
      "text/html": [
       "<div>\n",
       "<table border=\"1\" class=\"dataframe\">\n",
       "  <thead>\n",
       "    <tr style=\"text-align: right;\">\n",
       "      <th></th>\n",
       "      <th>AHRR</th>\n",
       "      <th>ALU RT</th>\n",
       "      <th>CYP1A1</th>\n",
       "      <th>DNMT1</th>\n",
       "      <th>DNMT3A</th>\n",
       "      <th>DNMT3B</th>\n",
       "      <th>GPX3</th>\n",
       "      <th>HS 3 UTR</th>\n",
       "      <th>HS 5 UTR</th>\n",
       "      <th>ORF1</th>\n",
       "      <th>ORF2</th>\n",
       "      <th>TET1</th>\n",
       "      <th>TET2</th>\n",
       "      <th>TET3</th>\n",
       "    </tr>\n",
       "  </thead>\n",
       "  <tbody>\n",
       "    <tr>\n",
       "      <th>0</th>\n",
       "      <td>NA</td>\n",
       "      <td>NA</td>\n",
       "      <td>NA</td>\n",
       "      <td>NA</td>\n",
       "      <td>NA</td>\n",
       "      <td>NA</td>\n",
       "      <td>NA</td>\n",
       "      <td>NA</td>\n",
       "      <td>NA</td>\n",
       "      <td>NA</td>\n",
       "      <td>NA</td>\n",
       "      <td>NA</td>\n",
       "      <td>NA</td>\n",
       "      <td>NA</td>\n",
       "    </tr>\n",
       "    <tr>\n",
       "      <th>1</th>\n",
       "      <td>0.0376</td>\n",
       "      <td>0.1022</td>\n",
       "      <td>0.0001</td>\n",
       "      <td>0.168</td>\n",
       "      <td>0.4289</td>\n",
       "      <td>0.3577</td>\n",
       "      <td>0.0404</td>\n",
       "      <td>0.0651</td>\n",
       "      <td>0.1714</td>\n",
       "      <td>0.1085</td>\n",
       "      <td>0.1647</td>\n",
       "      <td>0.0215</td>\n",
       "      <td>0.3004</td>\n",
       "      <td>0.7274</td>\n",
       "    </tr>\n",
       "    <tr>\n",
       "      <th>2</th>\n",
       "      <td>0.0002</td>\n",
       "      <td>0.0238</td>\n",
       "      <td>0.0002</td>\n",
       "      <td>0.0044</td>\n",
       "      <td>0.01</td>\n",
       "      <td>0.0267</td>\n",
       "      <td>0.0012</td>\n",
       "      <td>0.0133</td>\n",
       "      <td>0.053</td>\n",
       "      <td>0.0392</td>\n",
       "      <td>0.0355</td>\n",
       "      <td>0.0065</td>\n",
       "      <td>0</td>\n",
       "      <td>0.0709</td>\n",
       "    </tr>\n",
       "    <tr>\n",
       "      <th>3</th>\n",
       "      <td>0.0001</td>\n",
       "      <td>0.0034</td>\n",
       "      <td>0.0001</td>\n",
       "      <td>0.0099</td>\n",
       "      <td>0.0073</td>\n",
       "      <td>0.2305</td>\n",
       "      <td>0.0108</td>\n",
       "      <td>0.0006</td>\n",
       "      <td>0.0046</td>\n",
       "      <td>0.0015</td>\n",
       "      <td>0.0019</td>\n",
       "      <td>0.0019</td>\n",
       "      <td>0.0016</td>\n",
       "      <td>0.0355</td>\n",
       "    </tr>\n",
       "  </tbody>\n",
       "</table>\n",
       "</div>"
      ],
      "text/plain": [
       "     AHRR  ALU RT  CYP1A1   DNMT1  DNMT3A  DNMT3B    GPX3 HS 3 UTR HS 5 UTR  \\\n",
       "0      NA      NA      NA      NA      NA      NA      NA       NA       NA   \n",
       "1  0.0376  0.1022  0.0001   0.168  0.4289  0.3577  0.0404   0.0651   0.1714   \n",
       "2  0.0002  0.0238  0.0002  0.0044    0.01  0.0267  0.0012   0.0133    0.053   \n",
       "3  0.0001  0.0034  0.0001  0.0099  0.0073  0.2305  0.0108   0.0006   0.0046   \n",
       "\n",
       "     ORF1    ORF2    TET1    TET2    TET3  \n",
       "0      NA      NA      NA      NA      NA  \n",
       "1  0.1085  0.1647  0.0215  0.3004  0.7274  \n",
       "2  0.0392  0.0355  0.0065       0  0.0709  \n",
       "3  0.0015  0.0019  0.0019  0.0016  0.0355  "
      ]
     },
     "execution_count": 60,
     "metadata": {},
     "output_type": "execute_result"
    }
   ],
   "source": [
    "dfH5"
   ]
  },
  {
   "cell_type": "code",
   "execution_count": 61,
   "metadata": {
    "collapsed": false
   },
   "outputs": [
    {
     "data": {
      "text/html": [
       "<div>\n",
       "<table border=\"1\" class=\"dataframe\">\n",
       "  <thead>\n",
       "    <tr style=\"text-align: right;\">\n",
       "      <th></th>\n",
       "      <th>AHRR</th>\n",
       "      <th>Alu</th>\n",
       "      <th>CY1P1A1</th>\n",
       "      <th>DNMT1</th>\n",
       "      <th>DNMT3a</th>\n",
       "      <th>DNMT3b</th>\n",
       "      <th>GPX3</th>\n",
       "      <th>HS LINE 5UTR</th>\n",
       "      <th>HSLINE 3 UTR</th>\n",
       "      <th>ORF1</th>\n",
       "      <th>ORF2</th>\n",
       "      <th>TET1</th>\n",
       "      <th>TET2</th>\n",
       "      <th>TET3</th>\n",
       "    </tr>\n",
       "  </thead>\n",
       "  <tbody>\n",
       "    <tr>\n",
       "      <th>0</th>\n",
       "      <td>NA</td>\n",
       "      <td>NA</td>\n",
       "      <td>NA</td>\n",
       "      <td>NA</td>\n",
       "      <td>NA</td>\n",
       "      <td>NA</td>\n",
       "      <td>NA</td>\n",
       "      <td>NA</td>\n",
       "      <td>NA</td>\n",
       "      <td>NA</td>\n",
       "      <td>NA</td>\n",
       "      <td>NA</td>\n",
       "      <td>NA</td>\n",
       "      <td>NA</td>\n",
       "    </tr>\n",
       "    <tr>\n",
       "      <th>1</th>\n",
       "      <td>0.0019</td>\n",
       "      <td>0.2154</td>\n",
       "      <td>0.0003</td>\n",
       "      <td>0.7023</td>\n",
       "      <td>0.5551</td>\n",
       "      <td>0.451</td>\n",
       "      <td>0.7321</td>\n",
       "      <td>0.9259</td>\n",
       "      <td>0.569</td>\n",
       "      <td>0.2942</td>\n",
       "      <td>0.292</td>\n",
       "      <td>0.1289</td>\n",
       "      <td>0.8395</td>\n",
       "      <td>0.2677</td>\n",
       "    </tr>\n",
       "    <tr>\n",
       "      <th>2</th>\n",
       "      <td>0</td>\n",
       "      <td>0.2134</td>\n",
       "      <td>0</td>\n",
       "      <td>0.0257</td>\n",
       "      <td>0.0363</td>\n",
       "      <td>0.0196</td>\n",
       "      <td>0.0427</td>\n",
       "      <td>0.1757</td>\n",
       "      <td>0.077</td>\n",
       "      <td>0.5864</td>\n",
       "      <td>0.364</td>\n",
       "      <td>0.1393</td>\n",
       "      <td>0.0016</td>\n",
       "      <td>0.0282</td>\n",
       "    </tr>\n",
       "    <tr>\n",
       "      <th>3</th>\n",
       "      <td>0.0005</td>\n",
       "      <td>0.0034</td>\n",
       "      <td>0</td>\n",
       "      <td>0.0002</td>\n",
       "      <td>0.0325</td>\n",
       "      <td>0.0004</td>\n",
       "      <td>0.0004</td>\n",
       "      <td>0.0021</td>\n",
       "      <td>0.0145</td>\n",
       "      <td>0.0217</td>\n",
       "      <td>0.0103</td>\n",
       "      <td>0.0016</td>\n",
       "      <td>0.0001</td>\n",
       "      <td>0.0023</td>\n",
       "    </tr>\n",
       "  </tbody>\n",
       "</table>\n",
       "</div>"
      ],
      "text/plain": [
       "     AHRR     Alu CY1P1A1   DNMT1  DNMT3a  DNMT3b    GPX3 HS LINE 5UTR  \\\n",
       "0      NA      NA      NA      NA      NA      NA      NA           NA   \n",
       "1  0.0019  0.2154  0.0003  0.7023  0.5551   0.451  0.7321       0.9259   \n",
       "2       0  0.2134       0  0.0257  0.0363  0.0196  0.0427       0.1757   \n",
       "3  0.0005  0.0034       0  0.0002  0.0325  0.0004  0.0004       0.0021   \n",
       "\n",
       "  HSLINE 3 UTR    ORF1    ORF2    TET1    TET2    TET3  \n",
       "0           NA      NA      NA      NA      NA      NA  \n",
       "1        0.569  0.2942   0.292  0.1289  0.8395  0.2677  \n",
       "2        0.077  0.5864   0.364  0.1393  0.0016  0.0282  \n",
       "3       0.0145  0.0217  0.0103  0.0016  0.0001  0.0023  "
      ]
     },
     "execution_count": 61,
     "metadata": {},
     "output_type": "execute_result"
    }
   ],
   "source": [
    "dfH7"
   ]
  },
  {
   "cell_type": "code",
   "execution_count": 62,
   "metadata": {
    "collapsed": false
   },
   "outputs": [],
   "source": [
    "dfH1 = dfH1.drop([0]).copy()\n",
    "dfH3 = dfH3.drop([0]).copy()\n",
    "dfH5 = dfH5.drop([0]).copy()\n",
    "dfH7 = dfH7.drop([0]).copy()"
   ]
  },
  {
   "cell_type": "code",
   "execution_count": 63,
   "metadata": {
    "collapsed": false
   },
   "outputs": [],
   "source": [
    "df1 = dfH1.transpose()\n",
    "df3 = dfH3.transpose()\n",
    "df5 = dfH5.transpose()\n",
    "df7 = dfH7.transpose()"
   ]
  },
  {
   "cell_type": "code",
   "execution_count": 64,
   "metadata": {
    "collapsed": false
   },
   "outputs": [],
   "source": [
    "df1.columns = ['4L/min','1L/min','0.5L/min']\n",
    "df3.columns = ['4L/min','1L/min','0.5L/min']\n",
    "df5.columns = ['4L/min','1L/min','0.5L/min']\n",
    "df7.columns = ['4L/min','1L/min','0.5L/min']"
   ]
  },
  {
   "cell_type": "code",
   "execution_count": 65,
   "metadata": {
    "collapsed": false
   },
   "outputs": [],
   "source": [
    "df1['4L/min'] = pd.to_numeric(df1['4L/min'])\n",
    "df1['1L/min'] = pd.to_numeric(df1['1L/min'])\n",
    "df1['0.5L/min'] = pd.to_numeric(df1['0.5L/min'])\n",
    "\n",
    "\n",
    "\n",
    "df3['4L/min'] = pd.to_numeric(df3['4L/min'])\n",
    "df3['1L/min'] = pd.to_numeric(df3['1L/min'])\n",
    "df3['0.5L/min'] = pd.to_numeric(df3['0.5L/min'])\n",
    "\n",
    "\n",
    "\n",
    "df5['4L/min'] = pd.to_numeric(df5['4L/min'])\n",
    "df5['1L/min'] = pd.to_numeric(df5['1L/min'])\n",
    "df5['0.5L/min'] = pd.to_numeric(df5['0.5L/min'])\n",
    "\n",
    "\n",
    "\n",
    "df7['4L/min'] = pd.to_numeric(df7['4L/min'])\n",
    "df7['1L/min'] = pd.to_numeric(df7['1L/min'])\n",
    "df7['0.5L/min'] = pd.to_numeric(df7['0.5L/min'])"
   ]
  },
  {
   "cell_type": "code",
   "execution_count": 66,
   "metadata": {
    "collapsed": false
   },
   "outputs": [
    {
     "data": {
      "text/plain": [
       "4L/min      float64\n",
       "1L/min      float64\n",
       "0.5L/min    float64\n",
       "dtype: object"
      ]
     },
     "execution_count": 66,
     "metadata": {},
     "output_type": "execute_result"
    }
   ],
   "source": [
    "df1.dtypes"
   ]
  },
  {
   "cell_type": "code",
   "execution_count": 67,
   "metadata": {
    "collapsed": false
   },
   "outputs": [
    {
     "data": {
      "text/plain": [
       "4L/min      float64\n",
       "1L/min      float64\n",
       "0.5L/min    float64\n",
       "dtype: object"
      ]
     },
     "execution_count": 67,
     "metadata": {},
     "output_type": "execute_result"
    }
   ],
   "source": [
    "df3.dtypes"
   ]
  },
  {
   "cell_type": "code",
   "execution_count": 68,
   "metadata": {
    "collapsed": false
   },
   "outputs": [
    {
     "data": {
      "text/plain": [
       "4L/min      float64\n",
       "1L/min      float64\n",
       "0.5L/min    float64\n",
       "dtype: object"
      ]
     },
     "execution_count": 68,
     "metadata": {},
     "output_type": "execute_result"
    }
   ],
   "source": [
    "df5.dtypes"
   ]
  },
  {
   "cell_type": "code",
   "execution_count": 69,
   "metadata": {
    "collapsed": false
   },
   "outputs": [
    {
     "data": {
      "text/plain": [
       "4L/min      float64\n",
       "1L/min      float64\n",
       "0.5L/min    float64\n",
       "dtype: object"
      ]
     },
     "execution_count": 69,
     "metadata": {},
     "output_type": "execute_result"
    }
   ],
   "source": [
    "df7.dtypes"
   ]
  },
  {
   "cell_type": "code",
   "execution_count": 70,
   "metadata": {
    "collapsed": false
   },
   "outputs": [
    {
     "data": {
      "text/html": [
       "<div>\n",
       "<table border=\"1\" class=\"dataframe\">\n",
       "  <thead>\n",
       "    <tr style=\"text-align: right;\">\n",
       "      <th></th>\n",
       "      <th>4L/min</th>\n",
       "      <th>1L/min</th>\n",
       "      <th>0.5L/min</th>\n",
       "    </tr>\n",
       "  </thead>\n",
       "  <tbody>\n",
       "    <tr>\n",
       "      <th>AHRR</th>\n",
       "      <td>0.9258</td>\n",
       "      <td>0.6909</td>\n",
       "      <td>0.9123</td>\n",
       "    </tr>\n",
       "    <tr>\n",
       "      <th>ALU RT</th>\n",
       "      <td>0.6718</td>\n",
       "      <td>0.6845</td>\n",
       "      <td>0.0180</td>\n",
       "    </tr>\n",
       "    <tr>\n",
       "      <th>CYP1A1</th>\n",
       "      <td>0.5788</td>\n",
       "      <td>0.1357</td>\n",
       "      <td>0.0261</td>\n",
       "    </tr>\n",
       "    <tr>\n",
       "      <th>DNMT1</th>\n",
       "      <td>0.6560</td>\n",
       "      <td>0.1360</td>\n",
       "      <td>0.0972</td>\n",
       "    </tr>\n",
       "    <tr>\n",
       "      <th>DNMT3A</th>\n",
       "      <td>0.4608</td>\n",
       "      <td>0.8926</td>\n",
       "      <td>0.1317</td>\n",
       "    </tr>\n",
       "    <tr>\n",
       "      <th>DNMT3B</th>\n",
       "      <td>0.6803</td>\n",
       "      <td>0.6560</td>\n",
       "      <td>0.1170</td>\n",
       "    </tr>\n",
       "    <tr>\n",
       "      <th>GPX3</th>\n",
       "      <td>0.5118</td>\n",
       "      <td>0.4481</td>\n",
       "      <td>0.0702</td>\n",
       "    </tr>\n",
       "    <tr>\n",
       "      <th>HS 3 UTR</th>\n",
       "      <td>0.7242</td>\n",
       "      <td>0.6678</td>\n",
       "      <td>0.0653</td>\n",
       "    </tr>\n",
       "    <tr>\n",
       "      <th>HS 5 UTR</th>\n",
       "      <td>0.6728</td>\n",
       "      <td>0.8244</td>\n",
       "      <td>0.1077</td>\n",
       "    </tr>\n",
       "    <tr>\n",
       "      <th>ORF1</th>\n",
       "      <td>0.6065</td>\n",
       "      <td>0.5428</td>\n",
       "      <td>0.0049</td>\n",
       "    </tr>\n",
       "    <tr>\n",
       "      <th>ORF2</th>\n",
       "      <td>0.6869</td>\n",
       "      <td>0.8430</td>\n",
       "      <td>0.6098</td>\n",
       "    </tr>\n",
       "    <tr>\n",
       "      <th>TET1</th>\n",
       "      <td>0.8601</td>\n",
       "      <td>0.4942</td>\n",
       "      <td>0.5634</td>\n",
       "    </tr>\n",
       "    <tr>\n",
       "      <th>TET2</th>\n",
       "      <td>0.8559</td>\n",
       "      <td>0.2652</td>\n",
       "      <td>0.3140</td>\n",
       "    </tr>\n",
       "    <tr>\n",
       "      <th>TET3</th>\n",
       "      <td>0.5008</td>\n",
       "      <td>1.0000</td>\n",
       "      <td>0.5589</td>\n",
       "    </tr>\n",
       "  </tbody>\n",
       "</table>\n",
       "</div>"
      ],
      "text/plain": [
       "          4L/min  1L/min  0.5L/min\n",
       "AHRR      0.9258  0.6909    0.9123\n",
       "ALU RT    0.6718  0.6845    0.0180\n",
       "CYP1A1    0.5788  0.1357    0.0261\n",
       "DNMT1     0.6560  0.1360    0.0972\n",
       "DNMT3A    0.4608  0.8926    0.1317\n",
       "DNMT3B    0.6803  0.6560    0.1170\n",
       "GPX3      0.5118  0.4481    0.0702\n",
       "HS 3 UTR  0.7242  0.6678    0.0653\n",
       "HS 5 UTR  0.6728  0.8244    0.1077\n",
       "ORF1      0.6065  0.5428    0.0049\n",
       "ORF2      0.6869  0.8430    0.6098\n",
       "TET1      0.8601  0.4942    0.5634\n",
       "TET2      0.8559  0.2652    0.3140\n",
       "TET3      0.5008  1.0000    0.5589"
      ]
     },
     "execution_count": 70,
     "metadata": {},
     "output_type": "execute_result"
    }
   ],
   "source": [
    "df1"
   ]
  },
  {
   "cell_type": "code",
   "execution_count": 71,
   "metadata": {
    "collapsed": false
   },
   "outputs": [
    {
     "data": {
      "text/html": [
       "<div>\n",
       "<table border=\"1\" class=\"dataframe\">\n",
       "  <thead>\n",
       "    <tr style=\"text-align: right;\">\n",
       "      <th></th>\n",
       "      <th>4L/min</th>\n",
       "      <th>1L/min</th>\n",
       "      <th>0.5L/min</th>\n",
       "    </tr>\n",
       "  </thead>\n",
       "  <tbody>\n",
       "    <tr>\n",
       "      <th>AHRR</th>\n",
       "      <td>0.0830</td>\n",
       "      <td>0.0004</td>\n",
       "      <td>0.0034</td>\n",
       "    </tr>\n",
       "    <tr>\n",
       "      <th>ALU RT</th>\n",
       "      <td>0.0119</td>\n",
       "      <td>0.4438</td>\n",
       "      <td>0.0092</td>\n",
       "    </tr>\n",
       "    <tr>\n",
       "      <th>CYP1A1</th>\n",
       "      <td>0.2376</td>\n",
       "      <td>0.0009</td>\n",
       "      <td>0.0009</td>\n",
       "    </tr>\n",
       "    <tr>\n",
       "      <th>DNMT1</th>\n",
       "      <td>0.0620</td>\n",
       "      <td>0.0340</td>\n",
       "      <td>0.0068</td>\n",
       "    </tr>\n",
       "    <tr>\n",
       "      <th>DNMT3A</th>\n",
       "      <td>0.0713</td>\n",
       "      <td>0.5423</td>\n",
       "      <td>0.4688</td>\n",
       "    </tr>\n",
       "    <tr>\n",
       "      <th>DNMT3B</th>\n",
       "      <td>0.0364</td>\n",
       "      <td>0.8989</td>\n",
       "      <td>0.3401</td>\n",
       "    </tr>\n",
       "    <tr>\n",
       "      <th>GPX3</th>\n",
       "      <td>0.3177</td>\n",
       "      <td>0.1700</td>\n",
       "      <td>0.0003</td>\n",
       "    </tr>\n",
       "    <tr>\n",
       "      <th>HS 3 UTR</th>\n",
       "      <td>0.0408</td>\n",
       "      <td>0.3232</td>\n",
       "      <td>0.0166</td>\n",
       "    </tr>\n",
       "    <tr>\n",
       "      <th>HS 5 UTR</th>\n",
       "      <td>0.0891</td>\n",
       "      <td>0.6603</td>\n",
       "      <td>0.0774</td>\n",
       "    </tr>\n",
       "    <tr>\n",
       "      <th>ORF1</th>\n",
       "      <td>0.0965</td>\n",
       "      <td>0.2541</td>\n",
       "      <td>0.0392</td>\n",
       "    </tr>\n",
       "    <tr>\n",
       "      <th>ORF2</th>\n",
       "      <td>0.4252</td>\n",
       "      <td>0.5365</td>\n",
       "      <td>0.0824</td>\n",
       "    </tr>\n",
       "    <tr>\n",
       "      <th>TET1</th>\n",
       "      <td>0.1150</td>\n",
       "      <td>0.0528</td>\n",
       "      <td>0.0079</td>\n",
       "    </tr>\n",
       "    <tr>\n",
       "      <th>TET2</th>\n",
       "      <td>0.1467</td>\n",
       "      <td>0.2830</td>\n",
       "      <td>0.1068</td>\n",
       "    </tr>\n",
       "    <tr>\n",
       "      <th>TET3</th>\n",
       "      <td>0.8487</td>\n",
       "      <td>0.4874</td>\n",
       "      <td>0.8194</td>\n",
       "    </tr>\n",
       "  </tbody>\n",
       "</table>\n",
       "</div>"
      ],
      "text/plain": [
       "          4L/min  1L/min  0.5L/min\n",
       "AHRR      0.0830  0.0004    0.0034\n",
       "ALU RT    0.0119  0.4438    0.0092\n",
       "CYP1A1    0.2376  0.0009    0.0009\n",
       "DNMT1     0.0620  0.0340    0.0068\n",
       "DNMT3A    0.0713  0.5423    0.4688\n",
       "DNMT3B    0.0364  0.8989    0.3401\n",
       "GPX3      0.3177  0.1700    0.0003\n",
       "HS 3 UTR  0.0408  0.3232    0.0166\n",
       "HS 5 UTR  0.0891  0.6603    0.0774\n",
       "ORF1      0.0965  0.2541    0.0392\n",
       "ORF2      0.4252  0.5365    0.0824\n",
       "TET1      0.1150  0.0528    0.0079\n",
       "TET2      0.1467  0.2830    0.1068\n",
       "TET3      0.8487  0.4874    0.8194"
      ]
     },
     "execution_count": 71,
     "metadata": {},
     "output_type": "execute_result"
    }
   ],
   "source": [
    "df3"
   ]
  },
  {
   "cell_type": "code",
   "execution_count": 72,
   "metadata": {
    "collapsed": false
   },
   "outputs": [
    {
     "data": {
      "text/html": [
       "<div>\n",
       "<table border=\"1\" class=\"dataframe\">\n",
       "  <thead>\n",
       "    <tr style=\"text-align: right;\">\n",
       "      <th></th>\n",
       "      <th>4L/min</th>\n",
       "      <th>1L/min</th>\n",
       "      <th>0.5L/min</th>\n",
       "    </tr>\n",
       "  </thead>\n",
       "  <tbody>\n",
       "    <tr>\n",
       "      <th>AHRR</th>\n",
       "      <td>0.0376</td>\n",
       "      <td>0.0002</td>\n",
       "      <td>0.0001</td>\n",
       "    </tr>\n",
       "    <tr>\n",
       "      <th>ALU RT</th>\n",
       "      <td>0.1022</td>\n",
       "      <td>0.0238</td>\n",
       "      <td>0.0034</td>\n",
       "    </tr>\n",
       "    <tr>\n",
       "      <th>CYP1A1</th>\n",
       "      <td>0.0001</td>\n",
       "      <td>0.0002</td>\n",
       "      <td>0.0001</td>\n",
       "    </tr>\n",
       "    <tr>\n",
       "      <th>DNMT1</th>\n",
       "      <td>0.1680</td>\n",
       "      <td>0.0044</td>\n",
       "      <td>0.0099</td>\n",
       "    </tr>\n",
       "    <tr>\n",
       "      <th>DNMT3A</th>\n",
       "      <td>0.4289</td>\n",
       "      <td>0.0100</td>\n",
       "      <td>0.0073</td>\n",
       "    </tr>\n",
       "    <tr>\n",
       "      <th>DNMT3B</th>\n",
       "      <td>0.3577</td>\n",
       "      <td>0.0267</td>\n",
       "      <td>0.2305</td>\n",
       "    </tr>\n",
       "    <tr>\n",
       "      <th>GPX3</th>\n",
       "      <td>0.0404</td>\n",
       "      <td>0.0012</td>\n",
       "      <td>0.0108</td>\n",
       "    </tr>\n",
       "    <tr>\n",
       "      <th>HS 3 UTR</th>\n",
       "      <td>0.0651</td>\n",
       "      <td>0.0133</td>\n",
       "      <td>0.0006</td>\n",
       "    </tr>\n",
       "    <tr>\n",
       "      <th>HS 5 UTR</th>\n",
       "      <td>0.1714</td>\n",
       "      <td>0.0530</td>\n",
       "      <td>0.0046</td>\n",
       "    </tr>\n",
       "    <tr>\n",
       "      <th>ORF1</th>\n",
       "      <td>0.1085</td>\n",
       "      <td>0.0392</td>\n",
       "      <td>0.0015</td>\n",
       "    </tr>\n",
       "    <tr>\n",
       "      <th>ORF2</th>\n",
       "      <td>0.1647</td>\n",
       "      <td>0.0355</td>\n",
       "      <td>0.0019</td>\n",
       "    </tr>\n",
       "    <tr>\n",
       "      <th>TET1</th>\n",
       "      <td>0.0215</td>\n",
       "      <td>0.0065</td>\n",
       "      <td>0.0019</td>\n",
       "    </tr>\n",
       "    <tr>\n",
       "      <th>TET2</th>\n",
       "      <td>0.3004</td>\n",
       "      <td>0.0000</td>\n",
       "      <td>0.0016</td>\n",
       "    </tr>\n",
       "    <tr>\n",
       "      <th>TET3</th>\n",
       "      <td>0.7274</td>\n",
       "      <td>0.0709</td>\n",
       "      <td>0.0355</td>\n",
       "    </tr>\n",
       "  </tbody>\n",
       "</table>\n",
       "</div>"
      ],
      "text/plain": [
       "          4L/min  1L/min  0.5L/min\n",
       "AHRR      0.0376  0.0002    0.0001\n",
       "ALU RT    0.1022  0.0238    0.0034\n",
       "CYP1A1    0.0001  0.0002    0.0001\n",
       "DNMT1     0.1680  0.0044    0.0099\n",
       "DNMT3A    0.4289  0.0100    0.0073\n",
       "DNMT3B    0.3577  0.0267    0.2305\n",
       "GPX3      0.0404  0.0012    0.0108\n",
       "HS 3 UTR  0.0651  0.0133    0.0006\n",
       "HS 5 UTR  0.1714  0.0530    0.0046\n",
       "ORF1      0.1085  0.0392    0.0015\n",
       "ORF2      0.1647  0.0355    0.0019\n",
       "TET1      0.0215  0.0065    0.0019\n",
       "TET2      0.3004  0.0000    0.0016\n",
       "TET3      0.7274  0.0709    0.0355"
      ]
     },
     "execution_count": 72,
     "metadata": {},
     "output_type": "execute_result"
    }
   ],
   "source": [
    "df5"
   ]
  },
  {
   "cell_type": "code",
   "execution_count": 73,
   "metadata": {
    "collapsed": false
   },
   "outputs": [
    {
     "data": {
      "text/html": [
       "<div>\n",
       "<table border=\"1\" class=\"dataframe\">\n",
       "  <thead>\n",
       "    <tr style=\"text-align: right;\">\n",
       "      <th></th>\n",
       "      <th>4L/min</th>\n",
       "      <th>1L/min</th>\n",
       "      <th>0.5L/min</th>\n",
       "    </tr>\n",
       "  </thead>\n",
       "  <tbody>\n",
       "    <tr>\n",
       "      <th>AHRR</th>\n",
       "      <td>0.0019</td>\n",
       "      <td>0.0000</td>\n",
       "      <td>0.0005</td>\n",
       "    </tr>\n",
       "    <tr>\n",
       "      <th>Alu</th>\n",
       "      <td>0.2154</td>\n",
       "      <td>0.2134</td>\n",
       "      <td>0.0034</td>\n",
       "    </tr>\n",
       "    <tr>\n",
       "      <th>CY1P1A1</th>\n",
       "      <td>0.0003</td>\n",
       "      <td>0.0000</td>\n",
       "      <td>0.0000</td>\n",
       "    </tr>\n",
       "    <tr>\n",
       "      <th>DNMT1</th>\n",
       "      <td>0.7023</td>\n",
       "      <td>0.0257</td>\n",
       "      <td>0.0002</td>\n",
       "    </tr>\n",
       "    <tr>\n",
       "      <th>DNMT3a</th>\n",
       "      <td>0.5551</td>\n",
       "      <td>0.0363</td>\n",
       "      <td>0.0325</td>\n",
       "    </tr>\n",
       "    <tr>\n",
       "      <th>DNMT3b</th>\n",
       "      <td>0.4510</td>\n",
       "      <td>0.0196</td>\n",
       "      <td>0.0004</td>\n",
       "    </tr>\n",
       "    <tr>\n",
       "      <th>GPX3</th>\n",
       "      <td>0.7321</td>\n",
       "      <td>0.0427</td>\n",
       "      <td>0.0004</td>\n",
       "    </tr>\n",
       "    <tr>\n",
       "      <th>HS LINE 5UTR</th>\n",
       "      <td>0.9259</td>\n",
       "      <td>0.1757</td>\n",
       "      <td>0.0021</td>\n",
       "    </tr>\n",
       "    <tr>\n",
       "      <th>HSLINE 3 UTR</th>\n",
       "      <td>0.5690</td>\n",
       "      <td>0.0770</td>\n",
       "      <td>0.0145</td>\n",
       "    </tr>\n",
       "    <tr>\n",
       "      <th>ORF1</th>\n",
       "      <td>0.2942</td>\n",
       "      <td>0.5864</td>\n",
       "      <td>0.0217</td>\n",
       "    </tr>\n",
       "    <tr>\n",
       "      <th>ORF2</th>\n",
       "      <td>0.2920</td>\n",
       "      <td>0.3640</td>\n",
       "      <td>0.0103</td>\n",
       "    </tr>\n",
       "    <tr>\n",
       "      <th>TET1</th>\n",
       "      <td>0.1289</td>\n",
       "      <td>0.1393</td>\n",
       "      <td>0.0016</td>\n",
       "    </tr>\n",
       "    <tr>\n",
       "      <th>TET2</th>\n",
       "      <td>0.8395</td>\n",
       "      <td>0.0016</td>\n",
       "      <td>0.0001</td>\n",
       "    </tr>\n",
       "    <tr>\n",
       "      <th>TET3</th>\n",
       "      <td>0.2677</td>\n",
       "      <td>0.0282</td>\n",
       "      <td>0.0023</td>\n",
       "    </tr>\n",
       "  </tbody>\n",
       "</table>\n",
       "</div>"
      ],
      "text/plain": [
       "              4L/min  1L/min  0.5L/min\n",
       "AHRR          0.0019  0.0000    0.0005\n",
       "Alu           0.2154  0.2134    0.0034\n",
       "CY1P1A1       0.0003  0.0000    0.0000\n",
       "DNMT1         0.7023  0.0257    0.0002\n",
       "DNMT3a        0.5551  0.0363    0.0325\n",
       "DNMT3b        0.4510  0.0196    0.0004\n",
       "GPX3          0.7321  0.0427    0.0004\n",
       "HS LINE 5UTR  0.9259  0.1757    0.0021\n",
       "HSLINE 3 UTR  0.5690  0.0770    0.0145\n",
       "ORF1          0.2942  0.5864    0.0217\n",
       "ORF2          0.2920  0.3640    0.0103\n",
       "TET1          0.1289  0.1393    0.0016\n",
       "TET2          0.8395  0.0016    0.0001\n",
       "TET3          0.2677  0.0282    0.0023"
      ]
     },
     "execution_count": 73,
     "metadata": {},
     "output_type": "execute_result"
    }
   ],
   "source": [
    "df7"
   ]
  },
  {
   "cell_type": "code",
   "execution_count": 76,
   "metadata": {
    "collapsed": false
   },
   "outputs": [
    {
     "data": {
      "image/png": "[encoded data removed]",
      "text/plain": [
       "<matplotlib.figure.Figure at 0x12a7e9588>"
      ]
     },
     "metadata": {},
     "output_type": "display_data"
    }
   ],
   "source": [
    "import seaborn as sns\n",
    "from matplotlib import pyplot\n",
    "%matplotlib inline\n",
    "a4_dims = (11.7, 8.27)\n",
    "fig, ax = pyplot.subplots(figsize=a4_dims)\n",
    "pal = sns.dark_palette(\"navy\", as_cmap=True)\n",
    "sns.heatmap(df1,cmap=\"YlGnBu\",square=True, robust = True).set_title(\"PT7\")\n",
    "fig.savefig(\"output.png\")"
   ]
  },
  {
   "cell_type": "code",
   "execution_count": 27,
   "metadata": {
    "collapsed": false
   },
   "outputs": [
    {
     "data": {
      "text/plain": [
       "<matplotlib.axes._subplots.AxesSubplot at 0x11c0230f0>"
      ]
     },
     "execution_count": 27,
     "metadata": {},
     "output_type": "execute_result"
    },
    {
     "data": {
      "image/png": "[encoded data removed]",
      "text/plain": [
       "<matplotlib.figure.Figure at 0x117b90358>"
      ]
     },
     "metadata": {},
     "output_type": "display_data"
    }
   ],
   "source": [
    "import seaborn as sns\n",
    "from matplotlib import pyplot\n",
    "%matplotlib inline\n",
    "a4_dims = (11.7, 8.27)\n",
    "fig, ax = pyplot.subplots(figsize=a4_dims)\n",
    "pal = sns.dark_palette(\"navy\", as_cmap=True)\n",
    "sns.heatmap(df5,cmap=\"YlGnBu\",square=True, vmin=0, vmax=1,cbar=False)"
   ]
  },
  {
   "cell_type": "code",
   "execution_count": 28,
   "metadata": {
    "collapsed": false
   },
   "outputs": [
    {
     "data": {
      "text/plain": [
       "<matplotlib.axes._subplots.AxesSubplot at 0x11c18a080>"
      ]
     },
     "execution_count": 28,
     "metadata": {},
     "output_type": "execute_result"
    },
    {
     "data": {
      "image/png": "[encoded data removed]",
      "text/plain": [
       "<matplotlib.figure.Figure at 0x11c19f5c0>"
      ]
     },
     "metadata": {},
     "output_type": "display_data"
    }
   ],
   "source": [
    "import seaborn as sns\n",
    "from matplotlib import pyplot\n",
    "%matplotlib inline\n",
    "a4_dims = (11.7, 8.27)\n",
    "fig, ax = pyplot.subplots(figsize=a4_dims)\n",
    "pal = sns.dark_palette(\"navy\", as_cmap=True)\n",
    "sns.heatmap(df7,cmap=\"YlGnBu\",square=True, vmin=0, vmax=1,cbar=False)"
   ]
  },
  {
   "cell_type": "code",
   "execution_count": null,
   "metadata": {
    "collapsed": true
   },
   "outputs": [],
   "source": []
  },
  {
   "cell_type": "code",
   "execution_count": null,
   "metadata": {
    "collapsed": true
   },
   "outputs": [],
   "source": []
  }
 ],
 "metadata": {
  "kernelspec": {
   "display_name": "Python [conda env:keras_env]",
   "language": "python",
   "name": "conda-env-keras_env-py"
  },
  "language_info": {
   "codemirror_mode": {
    "name": "ipython",
    "version": 3
   },
   "file_extension": ".py",
   "mimetype": "text/x-python",
   "name": "python",
   "nbconvert_exporter": "python",
   "pygments_lexer": "ipython3",
   "version": "3.4.5"
  }
 },
 "nbformat": 4,
 "nbformat_minor": 2
}
